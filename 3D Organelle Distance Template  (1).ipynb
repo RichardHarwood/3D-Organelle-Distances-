{
 "cells": [
  {
   "cell_type": "code",
   "execution_count": null,
   "metadata": {},
   "outputs": [],
   "source": [
    "\n",
    "#Exploring distance of mitochondria to chloroplasts and Cell Walls"
   ]
  },
  {
   "cell_type": "code",
   "execution_count": null,
   "metadata": {},
   "outputs": [],
   "source": [
    "from sfepy.discrete.fem import Mesh, FEDomain, Field\n",
    "import os\n",
    "from stl import mesh\n",
    "import matplotlib.pyplot as plt\n",
    "from mpl_toolkits import mplot3d\n",
    "import pyvista as pv\n",
    "import numpy as np\n",
    "import networkx as nx\n",
    "from scipy.spatial import KDTree\n",
    "import seaborn as sns\n",
    "import vtk\n",
    "import time\n",
    "from IPython.display import display\n",
    "import itkwidgets\n",
    "\n"
   ]
  },
  {
   "cell_type": "code",
   "execution_count": null,
   "metadata": {},
   "outputs": [],
   "source": [
    "#Ideally we would read in images and convert them to meshes (3D objects) in Python-\n",
    "#Im just doing this off an STL - the results (currently the units are wrong so we can only do relative) should be similar\n",
    "tstart = time.time()"
   ]
  },
  {
   "cell_type": "code",
   "execution_count": null,
   "metadata": {},
   "outputs": [],
   "source": [
    "os.chdir(\"F:/FEMPython/\")\n",
    "\n",
    "t0 = time.time()\n",
    "chl= pv.read(\"F:/CHICKPEA MIT PROJECT/D2Cell1-This is HT/D2Cell1STLS(20nmx50nm)/HT-CHL.stl\")\n",
    "#reduce the mesh quality for exploring (then change it for HQ results)\n",
    "target_reduction = 0.0\n",
    "chl=chl.decimate(target_reduction)\n",
    "#######################################\n",
    "\n",
    "mit= pv.read(\"F:/CHICKPEA MIT PROJECT/D2Cell1-This is HT/D2Cell1STLS(20nmx50nm)/HT-MIT.stl\")\n",
    "mit=mit.decimate(target_reduction)\n",
    "#mit=mitraw.decimate(target_reduction)\n",
    "mit2=mit #wastes memory and is slow\n",
    "mit3=mit\n",
    "\n",
    "air=pv.read(\"F:/CHICKPEA MIT PROJECT/D2Cell1-This is HT/D2Cell1STLS(20nmx50nm)/HT-AIR.stl\")\n",
    "air=air.decimate(target_reduction)\n",
    "adjcells=pv.read(\"F:/CHICKPEA MIT PROJECT/D2Cell1-This is HT/D2Cell1STLS(20nmx50nm)/HT-ADJRESHAPED.stl\")\n",
    "adjcells=adjcells.decimate(target_reduction)\n",
    "cwproxy=adjcells+air\n",
    "t1 = time.time() - t0\n",
    "\n",
    "print('STL Load in Time: '+str(np.round(t1, 1))+' s')"
   ]
  },
  {
   "cell_type": "code",
   "execution_count": null,
   "metadata": {},
   "outputs": [],
   "source": [
    "#Now its best to visulaise it all\n",
    "\n",
    "print(\"Chickpea Cell (HT)\")\n",
    "\n",
    "\n",
    "\n",
    "p = pv.Plotter()\n",
    "p.title=(\"chickpea cell\")\n",
    "p.add_mesh(chl, color=\"green\")\n",
    "p.add_mesh(mit, color=\"red\")\n",
    "p.add_mesh(air, color=\"blue\", opacity=0.1)\n",
    "p.add_mesh(adjcells, color=\"white\", opacity=1)\n",
    "p.add_bounding_box()\n",
    "p.set_background(\"white\", top=\"white\")\n",
    "p.show()\n",
    "\n"
   ]
  },
  {
   "cell_type": "code",
   "execution_count": null,
   "metadata": {},
   "outputs": [],
   "source": [
    "def plot_scene_1():\n",
    "    from IPython.display import display\n",
    "    pv.set_plot_theme(\"document\")\n",
    "    plotter = pv.Plotter()\n",
    "    plotter.add_mesh(mit, color=\"red\")\n",
    "    plotter.add_mesh(chl, color=\"green\", opacity=1)\n",
    "    plotter.add_mesh(air, color=\"blue\", opacity=0.6)\n",
    "    plotter.add_mesh(adjcells, color=\"white\", opacity=0.6)\n",
    "    disp = plotter.show(use_panel=True, auto_close=False)\n",
    "    display(disp)\n",
    "plot_scene_1()"
   ]
  },
  {
   "cell_type": "code",
   "execution_count": null,
   "metadata": {},
   "outputs": [],
   "source": [
    "#Now we want to get the distances from each mitochdnria to the nearest chloroplast \n",
    "#If a mitochondria is closer there is more change for CO2 reffixation "
   ]
  },
  {
   "cell_type": "code",
   "execution_count": null,
   "metadata": {},
   "outputs": [],
   "source": [
    "t0 = time.time()\n",
    "tree = KDTree(chl.points)\n",
    "d, idx = tree.query(mit.points )\n",
    "mit[\"Distance (um)\"] = d/1000\n",
    "t1 = time.time() - t0\n",
    "print('Ktree Run Time: '+str(np.round(t1, 1))+' s')\n",
    "print ('mean distance from mit to chl: '+str(np.mean(d)/1000)+ ' um')"
   ]
  },
  {
   "cell_type": "code",
   "execution_count": null,
   "metadata": {},
   "outputs": [],
   "source": [
    "print(\"saving each points differences in nm\")\n",
    "np.savetxt(\"HTKDtreeMit-CHL.csv\", d, delimiter=\",\")"
   ]
  },
  {
   "cell_type": "code",
   "execution_count": null,
   "metadata": {},
   "outputs": [],
   "source": [
    "#create a unique dataframe which has the mit surffcaes and there distances from chlroplasts \n",
    "chldistances=mit"
   ]
  },
  {
   "cell_type": "code",
   "execution_count": null,
   "metadata": {},
   "outputs": [],
   "source": [
    "print(\"The distance between the surface of mitchondria and chlroplasts\")\n",
    "\n",
    "sargs = dict(\n",
    "    title_font_size=20,\n",
    "    label_font_size=15,\n",
    "    shadow=True,\n",
    "    n_labels=5,\n",
    "    italic=True,\n",
    "    fmt=\"%.1f\",\n",
    "    font_family=\"arial\",height=0.5, \n",
    "    vertical=True, \n",
    "    position_x=0.3,\n",
    "    position_y=0.8\n",
    ")\n",
    "\n",
    "boring_cmap = plt.cm.get_cmap(\"jet\", 50)\n",
    "\n",
    "pv.set_plot_theme(\"document\")\n",
    "p = pv.Plotter()\n",
    "p.set_background(\"white\")\n",
    "p.add_mesh(chldistances, scalars=\"Distance (um)\",scalar_bar_args=sargs, cmap=boring_cmap )\n",
    "p.add_mesh(chl, color=\"green\", opacity=0.5)\n",
    "p.show()\n"
   ]
  },
  {
   "cell_type": "code",
   "execution_count": null,
   "metadata": {},
   "outputs": [],
   "source": [
    "#plotter = pv.PlotterITK()\n",
    "#plotter.add_mesh(chl, color=\"green\")\n",
    "#plotter.add_mesh(mit, color=\"red\")\n",
    "#plotter.add_mesh(air, color=\"blue\", opacity=0.1)\n",
    "#plotter.add_mesh(adjcells, color=\"white\", opacity=1)\n",
    "#plotter.show(True)"
   ]
  },
  {
   "cell_type": "code",
   "execution_count": null,
   "metadata": {},
   "outputs": [],
   "source": [
    "print(\"The distance between the surface of mitchondria and chlroplasts\")\n",
    "print(\"(chloroplasts not shown)\")\n",
    "pv.set_plot_theme(\"document\")\n",
    "p = pv.Plotter()\n",
    "p.add_mesh(chldistances, scalars=\"Distance (um)\",scalar_bar_args=sargs, cmap=boring_cmap )\n",
    "p.show()\n"
   ]
  },
  {
   "cell_type": "code",
   "execution_count": null,
   "metadata": {},
   "outputs": [],
   "source": [
    "def plot_scene_1():\n",
    "    from IPython.display import display\n",
    "    pv.set_plot_theme(\"document\")\n",
    "    plotter = pv.Plotter()\n",
    "    plotter.add_mesh(chldistances, scalars=\"Distance (um)\",scalar_bar_args=sargs, cmap=boring_cmap )\n",
    "    plotter.add_mesh(chl, color=\"green\", opacity=0.6)\n",
    "    disp = plotter.show(use_panel=True, auto_close=False)\n",
    "    display(disp)\n",
    "plot_scene_1()"
   ]
  },
  {
   "cell_type": "code",
   "execution_count": null,
   "metadata": {},
   "outputs": [],
   "source": [
    "\n"
   ]
  },
  {
   "cell_type": "code",
   "execution_count": null,
   "metadata": {},
   "outputs": [],
   "source": [
    "t0 = time.time()\n",
    "tree2 = KDTree(cwproxy.points)\n",
    "d2, idx = tree2.query(mit2.points )\n",
    "mit2[\"Distance (um)\"] = d2/1000\n",
    "t1 = time.time() - t0\n",
    "print('Ktree Run Time: '+str(np.round(t1, 1))+' s')\n",
    "print ('mean distance from mit to chl: '+str(np.mean(d2)/1000)+ ' um')\n",
    "\n"
   ]
  },
  {
   "cell_type": "code",
   "execution_count": null,
   "metadata": {},
   "outputs": [],
   "source": [
    "print(\"saving each points differences in nm\")\n",
    "np.savetxt(\"HTKDtreeMit-cellwall.csv\", d2, delimiter=\",\")"
   ]
  },
  {
   "cell_type": "code",
   "execution_count": null,
   "metadata": {},
   "outputs": [],
   "source": [
    "#create a unique dataframe which has the mit surffcaes and there distances from cellwall \n",
    "cwdistances=mit2"
   ]
  },
  {
   "cell_type": "code",
   "execution_count": null,
   "metadata": {},
   "outputs": [],
   "source": []
  },
  {
   "cell_type": "code",
   "execution_count": null,
   "metadata": {},
   "outputs": [],
   "source": [
    "#So on average mitochondria are closer to the cell wall.(stress this is just one celll)\n",
    "print(\"the difference between distances\")\n",
    "np.mean(d2 - d)/1000"
   ]
  },
  {
   "cell_type": "code",
   "execution_count": null,
   "metadata": {},
   "outputs": [],
   "source": [
    "print(\"The distance between the surface of mitchondria and cell walls\")\n",
    "pv.set_plot_theme(\"document\")\n",
    "p = pv.Plotter()\n",
    "p.add_mesh(cwdistances, scalars=\"Distance (um)\",scalar_bar_args=sargs, cmap=boring_cmap )\n",
    "p.add_mesh(cwproxy, color=True, opacity=0.1)\n",
    "p.show()\n"
   ]
  },
  {
   "cell_type": "code",
   "execution_count": null,
   "metadata": {},
   "outputs": [],
   "source": [
    "print(\"The distance between the surface of mitchondria and cellwalls\")\n",
    "print(\"The Cell Wall is removed\")\n",
    "pv.set_plot_theme(\"document\")\n",
    "p = pv.Plotter()\n",
    "p.add_mesh(cwdistances, scalars=\"Distance (um)\",scalar_bar_args=sargs, cmap=boring_cmap)\n",
    "p.show()\n",
    "\n"
   ]
  },
  {
   "cell_type": "code",
   "execution_count": null,
   "metadata": {
    "scrolled": true
   },
   "outputs": [],
   "source": [
    "\n",
    "def plot_scene_1():\n",
    "    from IPython.display import display\n",
    "    pv.set_plot_theme(\"document\")\n",
    "    plotter = pv.Plotter()\n",
    "    plotter.add_mesh(cwdistances, scalars=\"Distance (um)\",scalar_bar_args=sargs, cmap=boring_cmap )\n",
    "    plotter.add_mesh(cwproxy, color=True, opacity=0.1)\n",
    "    disp = plotter.show(use_panel=True, auto_close=False)\n",
    "    display(disp)\n",
    "plot_scene_1()"
   ]
  },
  {
   "cell_type": "code",
   "execution_count": null,
   "metadata": {},
   "outputs": [],
   "source": [
    "#Now for every point on the mitochdnria we have \n",
    "#1) the distance to the nearest chorloplast \n",
    "#2) the distance to the nearest cell wall\n",
    "\n",
    "# so we can calculate the difference for each point (cell wall distance - chlroplast distance)\n",
    "# a positive number means the chlroplast is closer\n",
    "# a negative number means the cell wall is closer. "
   ]
  },
  {
   "cell_type": "code",
   "execution_count": null,
   "metadata": {},
   "outputs": [],
   "source": []
  },
  {
   "cell_type": "code",
   "execution_count": null,
   "metadata": {},
   "outputs": [],
   "source": [
    "#Create a new object that has the difference instead of the actual distance\n",
    "cwdif=mit3\n",
    "dif=d2-d\n",
    "cwdif[\"Distance (um)\"]=dif/1000"
   ]
  },
  {
   "cell_type": "code",
   "execution_count": null,
   "metadata": {},
   "outputs": [],
   "source": [
    "print(\"The difference between the two mesurments (cell wall distance - chl distance)\")\n",
    "print(\"darker colours (negative) are where mironcdhria are closer to the cell\")\n",
    "print(\"warmer colours (positive) are where mironcdhria are closer to the chlroplast\")\n",
    "pv.set_plot_theme(\"document\")\n",
    "p = pv.Plotter()\n",
    "p.add_mesh(cwdif, scalars=\"Distance (um)\",scalar_bar_args=sargs, cmap=boring_cmap )\n",
    "p.add_mesh(cwproxy, color=\"white\", opacity=0.3)\n",
    "p.add_mesh(chl, color=\"green\", opacity=0.3)\n",
    "#p.add_bounding_box()\n",
    "#p.set_background(\"white\", top=\"white\")\n",
    "p.show()"
   ]
  },
  {
   "cell_type": "code",
   "execution_count": null,
   "metadata": {},
   "outputs": [],
   "source": [
    "print(\"The difference between the two mesurments (cell wall distance - chl distance)\")\n",
    "print(\"cell wall and chlroplast removed\")\n",
    "pv.set_plot_theme(\"document\")\n",
    "p = pv.Plotter()\n",
    "p.add_mesh(cwdif, scalars=\"Distance (um)\",scalar_bar_args=sargs, cmap=boring_cmap )\n",
    "p.show()"
   ]
  },
  {
   "cell_type": "code",
   "execution_count": null,
   "metadata": {},
   "outputs": [],
   "source": [
    "print(\"The difference between the two mesurments (cell wall distance - chl distance)\")\n",
    "print(\"This is Binary= The warmer colours (where mit are closer to chl turn red\") \n",
    "print(\"and the cooler colours (wheremit are closer to cell wall turn yellow\")\n",
    "      \n",
    "scalars = np.empty(cwdif.n_points)\n",
    "scalars[cwdif['Distance (um)'] < 0] = 4  # red\n",
    "scalars[cwdif['Distance (um)'] > 0] = 2  # yellow\n",
    "pv.set_plot_theme(\"document\")\n",
    "p = pv.Plotter()\n",
    "p.add_mesh(cwdif, scalars=scalars, cmap=['red', 'yellow'])\n",
    "p.add_mesh(cwproxy, color=\"grey\", opacity=0.1)\n",
    "p.add_mesh(chl, color=\"green\", opacity=1)\n",
    "\n",
    "#p.add_bounding_box()\n",
    "#p.set_background(\"white\", top=\"white\")\n",
    "p.show()\n"
   ]
  },
  {
   "cell_type": "code",
   "execution_count": null,
   "metadata": {},
   "outputs": [],
   "source": [
    "\n",
    "plt.hist(dif, density=True, bins=300)  # This is difference \n",
    "sns.kdeplot(data=dif)"
   ]
  },
  {
   "cell_type": "code",
   "execution_count": null,
   "metadata": {},
   "outputs": [],
   "source": [
    "plt.hist(d, density=True, bins=300) # mit to chl distance\n",
    "sns.kdeplot(data=d)"
   ]
  },
  {
   "cell_type": "code",
   "execution_count": null,
   "metadata": {},
   "outputs": [],
   "source": [
    "plt.hist(d2, density=True, bins=300) # mit to cellwall distance\n",
    "sns.kdeplot(data=d2)"
   ]
  },
  {
   "cell_type": "code",
   "execution_count": null,
   "metadata": {},
   "outputs": [],
   "source": [
    "plt.hist(dif, density=True, bins=300)  # `density=False` would make counts\n",
    "sns.kdeplot(data=dif)\n",
    "plt.hist(d, density=True, bins=300)  # `density=False` would make counts\n",
    "sns.kdeplot(data=d)\n",
    "plt.hist(d2, density=True, bins=300)  # `density=False` would make counts\n",
    "sns.kdeplot(data=d2)"
   ]
  },
  {
   "cell_type": "code",
   "execution_count": null,
   "metadata": {},
   "outputs": [],
   "source": [
    "############################################################################\n",
    "############MCHL DISTANCE TO IAS ################################"
   ]
  },
  {
   "cell_type": "code",
   "execution_count": null,
   "metadata": {},
   "outputs": [],
   "source": [
    "t0 = time.time()\n",
    "chl1=chl\n",
    "tree3 = KDTree(air.points)\n",
    "d3, idx = tree3.query(chl1.points )\n",
    "chl1[\"Distance (um)\"] = d3/1000\n",
    "t1 = time.time() - t0\n",
    "print('Ktree Run Time: '+str(np.round(t1, 1))+' s')\n",
    "print ('mean distance from chl to air: '+str(np.mean(d3)/1000)+ ' um')"
   ]
  },
  {
   "cell_type": "code",
   "execution_count": null,
   "metadata": {},
   "outputs": [],
   "source": [
    "print(\"saving each points differences in nm\")\n",
    "np.savetxt(\"HTKDtreechl-air.csv\", d, delimiter=\",\")"
   ]
  },
  {
   "cell_type": "code",
   "execution_count": null,
   "metadata": {},
   "outputs": [],
   "source": [
    "sc=chl1"
   ]
  },
  {
   "cell_type": "code",
   "execution_count": null,
   "metadata": {},
   "outputs": [],
   "source": [
    "print(\"The distance between the surface of chl and air\")\n",
    "pv.set_plot_theme(\"document\")\n",
    "p = pv.Plotter()\n",
    "p.add_mesh(sc, scalars=\"Distance (um)\",scalar_bar_args=sargs, cmap=boring_cmap )\n",
    "#p.add_mesh(air, color=\"grey\", opacity=0.7)\n",
    "p.show()\n"
   ]
  },
  {
   "cell_type": "code",
   "execution_count": null,
   "metadata": {},
   "outputs": [],
   "source": [
    "print(\"This is Binary= The warmer colours (where chls are closer to IAS turn red\") \n",
    "print(\"and the cooler colours (where chl are closer to cell wall turn yellow\")\n",
    "pv.set_plot_theme(\"document\")\n",
    "p = pv.Plotter()\n",
    "scalars = np.empty(sc.n_points)\n",
    "scalars[sc['Distance (um)'] < 0.75] = 4  # red\n",
    "scalars[sc['Distance (um)'] > 0.75] = 2  # yellow\n",
    "pv.set_plot_theme(\"document\")\n",
    "p = pv.Plotter()\n",
    "p.add_mesh(sc, scalars=scalars, cmap=['red', 'yellow'])\n",
    "#p.add_mesh(cwproxy, color=\"grey\", opacity=0.1)\n",
    "#p.add_mesh(chl, color=\"green\", opacity=1)\n",
    "p.show()\n"
   ]
  },
  {
   "cell_type": "code",
   "execution_count": null,
   "metadata": {},
   "outputs": [],
   "source": [
    "def plot_scene_1():\n",
    "    from IPython.display import display\n",
    "    pv.set_plot_theme(\"document\")\n",
    "    plotter = pv.Plotter()\n",
    "    plotter.add_mesh(sc, scalars=scalars, cmap=['red', 'yellow'])\n",
    "    plotter.add_mesh(air, color=\"blue\", opacity=0.5)\n",
    "    disp = plotter.show(use_panel=True, auto_close=False)\n",
    "    display(disp)\n",
    "plot_scene_1()"
   ]
  },
  {
   "cell_type": "code",
   "execution_count": null,
   "metadata": {},
   "outputs": [],
   "source": [
    "t1 = time.time() - tstart\n",
    "print('Total Run Time: '+str(np.round(t1, 1))+' s')"
   ]
  },
  {
   "cell_type": "code",
   "execution_count": null,
   "metadata": {},
   "outputs": [],
   "source": [
    "#Lets get some last information \n",
    "mit\n",
    "\n"
   ]
  },
  {
   "cell_type": "code",
   "execution_count": null,
   "metadata": {},
   "outputs": [],
   "source": [
    "chl"
   ]
  },
  {
   "cell_type": "code",
   "execution_count": null,
   "metadata": {},
   "outputs": [],
   "source": []
  }
 ],
 "metadata": {
  "kernelspec": {
   "display_name": "Python 3",
   "language": "python",
   "name": "python3"
  },
  "language_info": {
   "codemirror_mode": {
    "name": "ipython",
    "version": 3
   },
   "file_extension": ".py",
   "mimetype": "text/x-python",
   "name": "python",
   "nbconvert_exporter": "python",
   "pygments_lexer": "ipython3",
   "version": "3.8.3"
  }
 },
 "nbformat": 4,
 "nbformat_minor": 4
}
